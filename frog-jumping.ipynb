{
 "cells": [
  {
   "cell_type": "markdown",
   "metadata": {},
   "source": [
    "#  The Frog Problem\n",
    "\n",
    "https://www.youtube.com/watch?v=ZLTyX4zL2Fc&t=188s\n",
    "\n",
    "This is my solution to Matt Parker's (@standupmaths) problem, or the problem given to Timandra Harkness about a frog that is crossing the river.  There are nine lily pads between the frog and the opposite bank, so the frog needs at most ten hops to cross the river.  The frog only moves forwards, and at any time she selects the lily pad to jump to, or the opposite bank directly, equally at random.  The she jumps there.  Once there, she selects the next lily pad, or the opposite bank, at random and jumps again.  \n",
    "\n",
    "On average, how many jumps are needed to cross the river?  Is there an explicit formula?  How does this vary for different numbers of lily pads? "
   ]
  },
  {
   "cell_type": "markdown",
   "metadata": {},
   "source": [
    "## My solution\n",
    "\n",
    "Let $J_n$ denote the expected number of hops needed for $n$ lily pads between the two river banks.  So we have that $J_0 = 1$, as the frog has no choice but to jump directly across.  We can calculate that \n",
    "$$J_1 = \\frac{1}{2}\\cdot 1 + \\frac{1}{2}(1 + J_0) = \\frac{3}{2}.$$\n",
    "(Either the frog jumps directly, and is done, or jumps the the lily pad in the middle fo the banks, and then we are back to the initial case.)  \n",
    "\n",
    "Similarly, we have\n",
    "$$J_2 = \\frac{1}{3}\\cdot 1 + \\frac{1}{3}(1+J_1) + \\frac{1}{3}(1+J_0).$$\n",
    "\n",
    "In general, for $n \\geq 1$, we can write that \n",
    "$$J_n = \\frac{1}{n+1}\\cdot 1 + \\frac{1}{n+1}(1+J_{n-1}) + \\frac{1}{n+1}(1+J_{n-2}) + \\cdots + \\frac{1}{n+1}(1+J_0),$$\n",
    "since the frog selects a lily pad (or opposite bank) equally at random, and this reduces to a smaller problem.  \n",
    "\n",
    "We can simplify this expression to \n",
    "$$J_n = 1 + \\frac{1}{n+1}\\sum_{k=0}^{n-1}J_k.$$"
   ]
  },
  {
   "cell_type": "code",
   "execution_count": 1,
   "metadata": {},
   "outputs": [],
   "source": [
    "import matplotlib.pyplot as plt\n",
    "import math\n",
    "import numpy as np\n",
    "from sklearn.linear_model import LinearRegression"
   ]
  },
  {
   "cell_type": "code",
   "execution_count": 2,
   "metadata": {},
   "outputs": [
    {
     "data": {
      "text/plain": [
       "[1,\n",
       " 1.5,\n",
       " 1.8333333333333333,\n",
       " 2.083333333333333,\n",
       " 2.283333333333333,\n",
       " 2.4499999999999997,\n",
       " 2.5928571428571425,\n",
       " 2.7178571428571425,\n",
       " 2.8289682539682532,\n",
       " 2.9289682539682538,\n",
       " 3.0198773448773446,\n",
       " 3.1032106782106776,\n",
       " 3.1801337551337547,\n",
       " 3.251562326562326,\n",
       " 3.318228993228993,\n",
       " 3.380728993228993,\n",
       " 3.4395525226407573,\n",
       " 3.495108078196313,\n",
       " 3.5477396571436812,\n",
       " 3.5977396571436815,\n",
       " 3.645358704762729,\n",
       " 3.6908132502172744,\n",
       " 3.7342915110868398,\n",
       " 3.7759581777535063,\n",
       " 3.8159581777535068,\n",
       " 3.854419716215045,\n",
       " 3.891456753252082,\n",
       " 3.927171038966368,\n",
       " 3.9616537975870574,\n",
       " 3.994987130920391,\n",
       " 4.02724519543652,\n",
       " 4.05849519543652,\n",
       " 4.08879822573955,\n",
       " 4.118209990445433,\n",
       " 4.146781419016861,\n",
       " 4.17455919679464,\n",
       " 4.201586223821667,\n",
       " 4.227902013295351,\n",
       " 4.253543038936376,\n",
       " 4.278543038936377,\n",
       " 4.302933282838815,\n",
       " 4.326742806648339,\n",
       " 4.349998620601827,\n",
       " 4.3727258933290996,\n",
       " 4.394948115551322,\n",
       " 4.416687245986104,\n",
       " 4.437963841730785,\n",
       " 4.458797175064118,\n",
       " 4.479205338329424,\n",
       " 4.499205338329425,\n",
       " 4.51881318146668,\n",
       " 4.538043950697449,\n",
       " 4.55691187522575,\n",
       " 4.575430393744268,\n",
       " 4.593612211926087,\n",
       " 4.61146935478323,\n",
       " 4.629013214432352,\n",
       " 4.646254593742697,\n",
       " 4.66320374628507,\n",
       " 4.679870412951736,\n",
       " 4.696263855574688,\n",
       " 4.712392887832753,\n",
       " 4.728265903705768,\n",
       " 4.743890903705768,\n",
       " 4.759275519090384,\n",
       " 4.774427034241898,\n",
       " 4.789352407376226,\n",
       " 4.804058289729168,\n",
       " 4.818551043352356,\n",
       " 4.83283675763807,\n",
       " 4.846921264680324,\n",
       " 4.860810153569211,\n",
       " 4.874508783706198,\n",
       " 4.888022297219711,\n",
       " 4.901355630553045,\n",
       " 4.9145135252898875,\n",
       " 4.927500538276901,\n",
       " 4.9403210510974125,\n",
       " 4.952979278945513,\n",
       " 4.965479278945514,\n",
       " 4.977824957957859,\n",
       " 4.990020079909079,\n",
       " 5.002068272680163,\n",
       " 5.013973034584925,\n",
       " 5.025737740467278,\n",
       " 5.037365647444022,\n",
       " 5.048859900317585,\n",
       " 5.060223536681222,\n",
       " 5.071459491737401,\n",
       " 5.082570602848513,\n",
       " 5.093559613837524,\n",
       " 5.104429179054915,\n",
       " 5.1151818672269584,\n",
       " 5.125820165099299,\n",
       " 5.136346480888772,\n",
       " 5.146763147555439,\n",
       " 5.157072425905954,\n",
       " 5.167276507538607,\n",
       " 5.177377517639617,\n",
       " 5.187377517639617,\n",
       " 5.197278507738627]"
      ]
     },
     "execution_count": 2,
     "metadata": {},
     "output_type": "execute_result"
    }
   ],
   "source": [
    "jumps = [1,1.5]\n",
    "\n",
    "lilypads = 100\n",
    "\n",
    "for n in range(2, lilypads+1):\n",
    "    jumps.append(1 + 1/(n+1)*sum(jumps))\n",
    "\n",
    "jumps"
   ]
  },
  {
   "cell_type": "code",
   "execution_count": 3,
   "metadata": {},
   "outputs": [
    {
     "data": {
      "text/plain": [
       "2.9289682539682538"
      ]
     },
     "execution_count": 3,
     "metadata": {},
     "output_type": "execute_result"
    }
   ],
   "source": [
    "#  The problem in the video has nine lilypads, so we want the appropriate value here.\n",
    "jumps[9]"
   ]
  },
  {
   "cell_type": "markdown",
   "metadata": {},
   "source": [
    "What does the graph of this function look like?"
   ]
  },
  {
   "cell_type": "code",
   "execution_count": 4,
   "metadata": {},
   "outputs": [
    {
     "data": {
      "image/png": "[encoded data removed]",
      "text/plain": [
       "<Figure size 432x288 with 1 Axes>"
      ]
     },
     "metadata": {
      "needs_background": "light"
     },
     "output_type": "display_data"
    }
   ],
   "source": [
    "plt.plot(range(lilypads+1),jumps);"
   ]
  },
  {
   "cell_type": "markdown",
   "metadata": {},
   "source": [
    "This graph looks generally logarithmic in nature."
   ]
  },
  {
   "cell_type": "code",
   "execution_count": 5,
   "metadata": {},
   "outputs": [
    {
     "data": {
      "image/png": "[encoded data removed]",
      "text/plain": [
       "<Figure size 432x288 with 1 Axes>"
      ]
     },
     "metadata": {
      "needs_background": "light"
     },
     "output_type": "display_data"
    }
   ],
   "source": [
    "plt.plot(range(lilypads+1), [1+math.log(1+i) for i in range(lilypads+1)]);"
   ]
  },
  {
   "cell_type": "markdown",
   "metadata": {},
   "source": [
    "## Fitting a curve\n",
    "\n",
    "Since this looks logarithmic in nature, let's try to fit a curve using linear regression with an engineered feature, i.e. let's fit \n",
    "$$\\log(1 + \\rm{lilypads})$$ \n",
    "versus the number of jumps."
   ]
  },
  {
   "cell_type": "code",
   "execution_count": 6,
   "metadata": {},
   "outputs": [],
   "source": [
    "r = np.linspace(0,lilypads,lilypads+1)\n",
    "\n",
    "X = np.log(r+1).reshape(-1,1)"
   ]
  },
  {
   "cell_type": "code",
   "execution_count": 7,
   "metadata": {},
   "outputs": [],
   "source": [
    "linreg = LinearRegression()"
   ]
  },
  {
   "cell_type": "code",
   "execution_count": 8,
   "metadata": {},
   "outputs": [
    {
     "data": {
      "text/plain": [
       "LinearRegression(copy_X=True, fit_intercept=True, n_jobs=None, normalize=False)"
      ]
     },
     "execution_count": 8,
     "metadata": {},
     "output_type": "execute_result"
    }
   ],
   "source": [
    "linreg.fit(X,jumps)"
   ]
  },
  {
   "cell_type": "code",
   "execution_count": 9,
   "metadata": {},
   "outputs": [
    {
     "data": {
      "text/plain": [
       "array([0.95617569])"
      ]
     },
     "execution_count": 9,
     "metadata": {},
     "output_type": "execute_result"
    }
   ],
   "source": [
    "linreg.coef_"
   ]
  },
  {
   "cell_type": "code",
   "execution_count": 10,
   "metadata": {},
   "outputs": [
    {
     "data": {
      "text/plain": [
       "0.7614930210085502"
      ]
     },
     "execution_count": 10,
     "metadata": {},
     "output_type": "execute_result"
    }
   ],
   "source": [
    "linreg.intercept_"
   ]
  },
  {
   "cell_type": "code",
   "execution_count": 11,
   "metadata": {},
   "outputs": [
    {
     "data": {
      "text/plain": [
       "0.9987889695997566"
      ]
     },
     "execution_count": 11,
     "metadata": {},
     "output_type": "execute_result"
    }
   ],
   "source": [
    "linreg.score(X,jumps)"
   ]
  },
  {
   "cell_type": "markdown",
   "metadata": {},
   "source": [
    "Given the above it seems that $J_n \\sim \\ln(n+1)$, meaning the ratio of these two numbers seems to go to 1 as $n \\rightarrow \\infty$."
   ]
  },
  {
   "cell_type": "code",
   "execution_count": null,
   "metadata": {},
   "outputs": [],
   "source": []
  }
 ],
 "metadata": {
  "kernelspec": {
   "display_name": "Python 3",
   "language": "python",
   "name": "python3"
  },
  "language_info": {
   "name": ""
  }
 },
 "nbformat": 4,
 "nbformat_minor": 2
}
